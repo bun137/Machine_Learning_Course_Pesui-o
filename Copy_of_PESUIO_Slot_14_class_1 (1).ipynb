{
  "nbformat": 4,
  "nbformat_minor": 0,
  "metadata": {
    "colab": {
      "provenance": []
    },
    "kernelspec": {
      "name": "python3",
      "display_name": "Python 3"
    },
    "language_info": {
      "name": "python"
    }
  },
  "cells": [
    {
      "cell_type": "markdown",
      "source": [
        "Welcome to the first class of undersanding ML algorithms\n",
        "Today you will get yourselves familiar with python and essentially get to dive into the basics of some libraries that you will be learning about throughout this course."
      ],
      "metadata": {
        "id": "uxWHk4LP14P2"
      }
    },
    {
      "cell_type": "markdown",
      "source": [
        "The Most basic Hello World program:"
      ],
      "metadata": {
        "id": "4TUobwcn2cvz"
      }
    },
    {
      "cell_type": "code",
      "source": [
        "print(\"Hello World!\")"
      ],
      "metadata": {
        "colab": {
          "base_uri": "https://localhost:8080/"
        },
        "id": "hE7C8tL22lmD",
        "outputId": "145a0148-dff4-4db3-d741-414b42869154"
      },
      "execution_count": null,
      "outputs": [
        {
          "output_type": "stream",
          "name": "stdout",
          "text": [
            "Hello World!\n"
          ]
        }
      ]
    },
    {
      "cell_type": "markdown",
      "source": [
        "Concept of variables and data types :\n",
        "EXERCISE: A travel company wants to fly a plane to the Bahamas. Flying the plane costs 5000 dollars. So far, 29 people have signed up for the trip. If the company charges 200 dollars per ticket, what is the profit made by the company? Create variables for each numeric quantity and use appropriate arithmetic operations."
      ],
      "metadata": {
        "id": "ovKfTdej2B9R"
      }
    },
    {
      "cell_type": "code",
      "source": [
        "cost_of_flying_plane = 5000\n",
        "number_of_passengers = 29\n",
        "price_of_ticket = 200\n",
        "returning_passengers = 12\n",
        "profit = (number_of_passengers * price_of_ticket) - cost_of_flying_plane\n",
        "print('The company makes of a profit of dollars',profit)\n",
        "\n"
      ],
      "metadata": {
        "id": "vxkFv26E23qA",
        "colab": {
          "base_uri": "https://localhost:8080/"
        },
        "outputId": "7df82bc1-c7ba-40f5-c5ee-77d1a1e6c249"
      },
      "execution_count": 1,
      "outputs": [
        {
          "output_type": "stream",
          "name": "stdout",
          "text": [
            "The company makes of a profit of dollars 800\n"
          ]
        }
      ]
    },
    {
      "cell_type": "markdown",
      "source": [
        "Concept of a conditional statement or a set of conditional statements and cases :\n",
        "Write a code snippet which evaluates whether a number is a multiple of just 2 , just 3 , or both 2 and 3 (multiple of 6)"
      ],
      "metadata": {
        "id": "xjAB_LDJ24I3"
      }
    },
    {
      "cell_type": "code",
      "source": [
        "#use if-else statements and print out the required information:\n",
        "num= 12\n",
        "#complete this area"
      ],
      "metadata": {
        "id": "m_ZVPJuN3AXP"
      },
      "execution_count": null,
      "outputs": []
    },
    {
      "cell_type": "markdown",
      "source": [
        "Concept of loops:\n",
        "Write a program to count the number of vowels in the given string:\n",
        "ANTIESTABLISHMENTARIANISTICALLY"
      ],
      "metadata": {
        "id": "O2bGzmzO3s9L"
      }
    },
    {
      "cell_type": "code",
      "source": [
        "string='ANTIESTABLISHMENTARIANISTICALLY'\n",
        "vowels=0\n",
        "for i in string:\n",
        "      if(i=='a' or i=='e' or i=='i' or i=='o' or i=='u' or i=='A' or i=='E' or i=='I' or i=='O' or i=='U'):\n",
        "            vowels=vowels+1\n",
        "print(\"Number of vowels are:\",vowels)\n"
      ],
      "metadata": {
        "id": "4g7drYH83vYE",
        "colab": {
          "base_uri": "https://localhost:8080/"
        },
        "outputId": "dc2f4c68-42fa-4846-c602-72e3bf9bd163"
      },
      "execution_count": 4,
      "outputs": [
        {
          "output_type": "stream",
          "name": "stdout",
          "text": [
            "Number of vowels are: 12\n"
          ]
        }
      ]
    },
    {
      "cell_type": "markdown",
      "source": [
        "learning what each data- structure in python does and using all their functions:\n"
      ],
      "metadata": {
        "id": "e4Vc9Nw84bD5"
      }
    },
    {
      "cell_type": "markdown",
      "source": [
        "LISTS AND ITS FUNCTIONALITY:"
      ],
      "metadata": {
        "id": "OaEbJ_LY4joh"
      }
    },
    {
      "cell_type": "code",
      "source": [
        "#Define a random list of fruits \n",
        "fruits= [\"apple\",\"pear\",\"banana\"]\n",
        "\n",
        "#iterate over the list and find the name of the fruit which has the smallest word length\n",
        "\n",
        "\n",
        "# append a vegetable to your existing list\n",
        "\n",
        "# find the size of your list\n",
        "\n",
        "# add enough fruits such that your list size if greater that 4\n",
        "\n",
        "# delete the 2nd fruit(1st index) from your list:\n",
        "\n",
        "# add your name in the 4th position of the list (3rd index)\n",
        "\n",
        "#have fun and try out any 4-5 pre-defined fucntions on a list as seen in the python list documentation\n",
        "\n"
      ],
      "metadata": {
        "id": "rjle8Jat4n7b"
      },
      "execution_count": null,
      "outputs": []
    },
    {
      "cell_type": "code",
      "source": [
        "#iterate over the list and find the name of the fruit which has the smallest word length\n",
        "fr= [\"apple\",\"pear\",\"banana\"]\n",
        "fruits= \"apple pear banana\"\n",
        "wor = \"\";  \n",
        "wors = [];  \n",
        "fruits = fruits + \" \";  \n",
        "for i in range(0, len(fruits)):  \n",
        "    if(fruits[i] != ' '):  \n",
        "        wor = wor + fruits[i];  \n",
        "    else:  \n",
        "         wors.append(wor);  \n",
        "         wor = \"\";  \n",
        "          \n",
        "small = large = wors[0];  \n",
        "  \n",
        "for k in range(0, len(wors)):  \n",
        "      \n",
        "   \n",
        "    if(len(small) > len(wors[k])):  \n",
        "        small = wors[k];  \n",
        "          \n",
        "   \n",
        "    if(len(large) < len(wors[k])):  \n",
        "        large = wors[k];  \n",
        "   \n",
        "print(\"Smallest word: \" + small);  \n"
      ],
      "metadata": {
        "colab": {
          "base_uri": "https://localhost:8080/"
        },
        "id": "txcNO6yur-U-",
        "outputId": "9073a91d-6513-4f1a-9ee8-438bb0b49b39"
      },
      "execution_count": 17,
      "outputs": [
        {
          "output_type": "stream",
          "name": "stdout",
          "text": [
            "Smallest word: pear\n"
          ]
        }
      ]
    },
    {
      "cell_type": "code",
      "source": [
        "## append a vegetable to your existing list\n",
        "fr= [\"apple\",\"pear\",\"banana\"]\n",
        "fr.append('carrots')\n",
        "print(fr)"
      ],
      "metadata": {
        "colab": {
          "base_uri": "https://localhost:8080/"
        },
        "id": "32OmQWl20iSN",
        "outputId": "d4546469-24a0-4979-dd24-8033238697c0"
      },
      "execution_count": 19,
      "outputs": [
        {
          "output_type": "stream",
          "name": "stdout",
          "text": [
            "['apple', 'pear', 'banana', 'carrots']\n"
          ]
        }
      ]
    },
    {
      "cell_type": "code",
      "source": [
        "# find the size of your list\n",
        "i=len(fr)\n",
        "print(i)"
      ],
      "metadata": {
        "colab": {
          "base_uri": "https://localhost:8080/"
        },
        "id": "CK_vh_s804LI",
        "outputId": "8dc2bbc9-85d4-4c11-b4fd-dba7158a5e86"
      },
      "execution_count": 20,
      "outputs": [
        {
          "output_type": "stream",
          "name": "stdout",
          "text": [
            "4\n"
          ]
        }
      ]
    },
    {
      "cell_type": "code",
      "source": [
        "#add enough fruits such that your list size if greater that 4\n",
        "fr.append('BANANA')\n",
        "fr.append('PROMOGRANTE')\n",
        "fr.append('WATERMELON')\n",
        "print(fr)\n",
        "print(len(fr))"
      ],
      "metadata": {
        "colab": {
          "base_uri": "https://localhost:8080/"
        },
        "id": "uUMrIIDg1IbW",
        "outputId": "8f5188bf-be59-4e9b-fc96-2dcd841657e7"
      },
      "execution_count": 22,
      "outputs": [
        {
          "output_type": "stream",
          "name": "stdout",
          "text": [
            "['apple', 'pear', 'banana', 'carrots', 'BANANA', 'PROMOGRANTE', 'WATERMELON']\n",
            "7\n"
          ]
        }
      ]
    },
    {
      "cell_type": "code",
      "source": [
        "#delete the 2nd fruit(1st index) from your list\n",
        "del fr[3]\n",
        "print(fr)"
      ],
      "metadata": {
        "colab": {
          "base_uri": "https://localhost:8080/"
        },
        "id": "tJiPctcR1pD9",
        "outputId": "0b855394-d703-47da-e8f7-0897d7e44da2"
      },
      "execution_count": 24,
      "outputs": [
        {
          "output_type": "stream",
          "name": "stdout",
          "text": [
            "['apple', 'pear', 'banana', 'BANANA', 'PROMOGRANTE', 'WATERMELON']\n"
          ]
        }
      ]
    },
    {
      "cell_type": "code",
      "source": [
        "#add your name in the 4th position of the list (3rd index)\n",
        "fr.insert(3, \"Shreya\")\n",
        "print(fr)"
      ],
      "metadata": {
        "colab": {
          "base_uri": "https://localhost:8080/"
        },
        "id": "hg4KKZI52IN0",
        "outputId": "9e500d17-715c-43a2-e6cb-37ea6d3eefed"
      },
      "execution_count": 25,
      "outputs": [
        {
          "output_type": "stream",
          "name": "stdout",
          "text": [
            "['apple', 'pear', 'banana', 'Shreya', 'BANANA', 'PROMOGRANTE', 'WATERMELON']\n"
          ]
        }
      ]
    },
    {
      "cell_type": "markdown",
      "source": [
        "TUPLES AND ITS FUNCTIONALITY:"
      ],
      "metadata": {
        "id": "IAYs58gx4oWB"
      }
    },
    {
      "cell_type": "code",
      "source": [
        "#create abd tuple and print its elements \n",
        "\n",
        "#print the type of each value in the tuple\n",
        "\n",
        "#try to change the seconf value in your tuple to \"Caterpillar\"\n",
        "\n",
        "# print the last element of the tuple without using the length of the tuple\n",
        "\n",
        "# slicing is an IMPORTANT concept in python especially since you will all be working on huge amounts of data so try different options \n",
        "# print(a[-2:]), print([:3]) etc...\n",
        "\n",
        "#sort vs sorted function: find the difference in the form of a program:\n"
      ],
      "metadata": {
        "id": "KquFBYey4qzu"
      },
      "execution_count": null,
      "outputs": []
    },
    {
      "cell_type": "code",
      "source": [
        "#create abd tuple and print its elements \n",
        "tup=('a','b','c')"
      ],
      "metadata": {
        "id": "j_SEsgLy2kUv"
      },
      "execution_count": 26,
      "outputs": []
    },
    {
      "cell_type": "code",
      "source": [
        "#print the type of each value in the tuple\n",
        "for i in tup:\n",
        "  print(i)"
      ],
      "metadata": {
        "colab": {
          "base_uri": "https://localhost:8080/"
        },
        "id": "PaMopung3MGQ",
        "outputId": "4f6b7b87-cda9-48c2-a92b-89e53502ae66"
      },
      "execution_count": 27,
      "outputs": [
        {
          "output_type": "stream",
          "name": "stdout",
          "text": [
            "a\n",
            "b\n",
            "c\n"
          ]
        }
      ]
    },
    {
      "cell_type": "code",
      "source": [
        "#try to change the seconf value in your tuple to \"Caterpillar\"\n",
        "lst = list(tup)\n",
        "lst[1] = 'Caterpillar'\n",
        "t = tuple(lst)\n",
        "print(t)"
      ],
      "metadata": {
        "colab": {
          "base_uri": "https://localhost:8080/"
        },
        "id": "MDW0SC4_3TG1",
        "outputId": "6dc9caa2-8814-408b-e231-f0c0a05aa464"
      },
      "execution_count": 30,
      "outputs": [
        {
          "output_type": "stream",
          "name": "stdout",
          "text": [
            "('a', 'Caterpillar', 'c')\n"
          ]
        }
      ]
    },
    {
      "cell_type": "code",
      "source": [
        "#print the last element of the tuple without using the length of the tuple\n",
        "print(t[-1])"
      ],
      "metadata": {
        "colab": {
          "base_uri": "https://localhost:8080/"
        },
        "id": "oNXuWunh6Awi",
        "outputId": "7d6254c2-b6d4-4e41-856a-770111a755f7"
      },
      "execution_count": 34,
      "outputs": [
        {
          "output_type": "stream",
          "name": "stdout",
          "text": [
            "c\n"
          ]
        }
      ]
    },
    {
      "cell_type": "code",
      "source": [
        "# print(a[-2:]), print([:3])\n",
        "print(t[-2:])\n",
        "print(t[:3])"
      ],
      "metadata": {
        "colab": {
          "base_uri": "https://localhost:8080/"
        },
        "id": "aIrIBeKS6nLx",
        "outputId": "069b4bf7-6a97-41d9-de2a-c6606f44ff40"
      },
      "execution_count": 35,
      "outputs": [
        {
          "output_type": "stream",
          "name": "stdout",
          "text": [
            "('Caterpillar', 'c')\n",
            "('a', 'Caterpillar', 'c')\n"
          ]
        }
      ]
    },
    {
      "cell_type": "code",
      "source": [
        " L = [1, 2, 3, 4, 5,]\n",
        "  \n",
        "print(\"Sorted list:\",sorted(L))\n",
        "L.sort()\n",
        "print(L)\n",
        "new = [\"my\", \"first\", \"homeworks\",'qw'] \n",
        "new.sort() \n",
        "print(new) \n",
        "print(\"Sorted list:\",sorted(new))\n"
      ],
      "metadata": {
        "colab": {
          "base_uri": "https://localhost:8080/"
        },
        "id": "eexZhsTZ7rnx",
        "outputId": "f1385575-dfd8-4d4a-f65d-06f0041c8f16"
      },
      "execution_count": 43,
      "outputs": [
        {
          "output_type": "stream",
          "name": "stdout",
          "text": [
            "Sorted list: [1, 2, 3, 4, 5]\n",
            "[1, 2, 3, 4, 5]\n",
            "['first', 'homeworks', 'my', 'qw']\n",
            "Sorted list: ['first', 'homeworks', 'my', 'qw']\n"
          ]
        }
      ]
    },
    {
      "cell_type": "markdown",
      "source": [
        "SETS AND ITS FUNCTIONALITY:"
      ],
      "metadata": {
        "id": "P3xn-gIL4rS6"
      }
    },
    {
      "cell_type": "code",
      "source": [
        "#explore the properties of set and after doing that solve this little puzzle below:\n",
        "\n"
      ],
      "metadata": {
        "id": "RlURFwFx4viZ"
      },
      "execution_count": null,
      "outputs": []
    },
    {
      "cell_type": "code",
      "source": [
        "s=\" rofl lol macha bob ootd asap fun sweet16 ffs lol asap ootd ffs macha rofl bob ootd fun candid anime happyhours bob fun happyhours\"\n",
        "\n",
        "l=s.split()\n",
        "\n",
        "for i in l:\n",
        "    print(i)\n",
        "q=list(l)\n",
        "print(l)"
      ],
      "metadata": {
        "colab": {
          "base_uri": "https://localhost:8080/"
        },
        "id": "2TYtRJ_mqMLi",
        "outputId": "e7e0d891-8615-45ab-df67-eed789465de8"
      },
      "execution_count": 11,
      "outputs": [
        {
          "output_type": "stream",
          "name": "stdout",
          "text": [
            "rofl\n",
            "lol\n",
            "macha\n",
            "bob\n",
            "ootd\n",
            "asap\n",
            "fun\n",
            "sweet16\n",
            "ffs\n",
            "lol\n",
            "asap\n",
            "ootd\n",
            "ffs\n",
            "macha\n",
            "rofl\n",
            "bob\n",
            "ootd\n",
            "fun\n",
            "candid\n",
            "anime\n",
            "happyhours\n",
            "bob\n",
            "fun\n",
            "happyhours\n",
            "['rofl', 'lol', 'macha', 'bob', 'ootd', 'asap', 'fun', 'sweet16', 'ffs', 'lol', 'asap', 'ootd', 'ffs', 'macha', 'rofl', 'bob', 'ootd', 'fun', 'candid', 'anime', 'happyhours', 'bob', 'fun', 'happyhours']\n"
          ]
        }
      ]
    },
    {
      "cell_type": "markdown",
      "source": [
        "Ana is a data-scientist  who just started her career in Meta, however she needs to find the existance of new words on facebook hashtags and find the numbre of unique such words which need to be added to the existing facebook hastag library:\n",
        "\n",
        "facebook hastag library : [\"ootd\", \"lol\", \"ffs\", \"asap\"]\n",
        "daily facebook hastag words string: \" rofl lol macha bob ootd asap fun sweet16 ffs lol asap ootd ffs macha rofl bob ootd fun candid anime happyhours bob fun happyhours\"\n",
        "You will need to indivitually extract the words from the string and then solve this problem ?? How are you going to do that ? \n",
        "# Reading documentation should become a habit ....."
      ],
      "metadata": {
        "id": "na8tI4EH70Lt"
      }
    },
    {
      "cell_type": "code",
      "source": [
        "#solve the above problem and help ana do her work she may even hire you as her assistant!!!\n"
      ],
      "metadata": {
        "id": "0ww7Zs5BBiBQ"
      },
      "execution_count": null,
      "outputs": []
    },
    {
      "cell_type": "markdown",
      "source": [
        "DICTIONARIES AND ITS FUNCTIONALITY:"
      ],
      "metadata": {
        "id": "kMmUm2qI4wBP"
      }
    },
    {
      "cell_type": "code",
      "source": [
        "#explore the usage of dictionaries because it is literally so useful when in comes data science\n",
        "#a lot of the data you will be using will be as key-value pairs \n"
      ],
      "metadata": {
        "id": "oR-54dFT4zYN"
      },
      "execution_count": null,
      "outputs": []
    },
    {
      "cell_type": "markdown",
      "source": [
        "Given an unsorted list of some elements(may or may not be integers), Find the frequency of each distinct element in the list using a dictionary. \n",
        "Input : [1, 1, 1, 5, 5, 3, 1, 3, 3, 1,\n",
        "                  4, 4, 4, 2, 2, 2, 2]\n",
        "\n",
        "Output : 1 : 5\n",
        "         2 : 4\n",
        "         3 : 3\n",
        "         4 : 3\n",
        "         5 : 2\n",
        "\n"
      ],
      "metadata": {
        "id": "V-iZrEMlE30W"
      }
    },
    {
      "cell_type": "code",
      "source": [
        "def CountFreq(li):\n",
        "  freq = {}\n",
        "  for items in li:\n",
        "    freq[items] = li.count(items) #dictionary created\n",
        "  print(freq)\n",
        "li =[]\n",
        "CountFreq(li)"
      ],
      "metadata": {
        "colab": {
          "base_uri": "https://localhost:8080/"
        },
        "id": "9LI3v-oBppvv",
        "outputId": "d099f0f1-79f1-4cf8-e8a6-144e9d7570d2"
      },
      "execution_count": 6,
      "outputs": [
        {
          "output_type": "stream",
          "name": "stdout",
          "text": [
            "{1: 5, 5: 2, 3: 3, 4: 3, 2: 4}\n"
          ]
        }
      ]
    },
    {
      "cell_type": "code",
      "source": [
        "# Python program to count the frequency of\n",
        "# elements in a list using a dictionary\n",
        " \n",
        "def CountFrequency(my_list):\n",
        "    freq = {}\n",
        "    for item in my_list:\n",
        "        if (item in freq):\n",
        "            freq[item] += 1\n",
        "        else:\n",
        "            freq[item] = 1\n",
        " \n",
        "    for key, value in freq.items():\n",
        "        print (\"% d : % d\"%(key, value))\n",
        "    \n",
        "# Driver function\n",
        "if __name__ == \"__main__\":\n",
        "    my_list =[1, 1, 1, 5, 5, 3, 1, 3, 3, 1, 4, 4, 4, 2, 2, 2, 2]\n",
        " \n",
        "    CountFrequency(my_list)"
      ],
      "metadata": {
        "id": "dPP6aUJaFbbv",
        "colab": {
          "base_uri": "https://localhost:8080/"
        },
        "outputId": "408bbcbd-8f13-4cb0-d540-03cdacd40fee"
      },
      "execution_count": 45,
      "outputs": [
        {
          "output_type": "stream",
          "name": "stdout",
          "text": [
            " 1 :  5\n",
            " 5 :  2\n",
            " 3 :  3\n",
            " 4 :  3\n",
            " 2 :  4\n"
          ]
        }
      ]
    },
    {
      "cell_type": "markdown",
      "source": [
        "Now that you have finished this basics exercise in python We shall now play in teams and winning Team doesn't get homework today !"
      ],
      "metadata": {
        "id": "7AoTxECAFvfc"
      }
    }
  ]
}